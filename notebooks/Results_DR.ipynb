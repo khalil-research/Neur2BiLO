{
 "cells": [
  {
   "cell_type": "code",
   "execution_count": 1,
   "id": "3f3da5c1",
   "metadata": {},
   "outputs": [],
   "source": [
    "import sys\n",
    "sys.path.append('../')"
   ]
  },
  {
   "cell_type": "code",
   "execution_count": 2,
   "id": "e80ba8c9",
   "metadata": {},
   "outputs": [],
   "source": [
    "import os\n",
    "\n",
    "import numpy as np\n",
    "import pandas as pd\n",
    "import pickle as pkl\n",
    "\n",
    "import matplotlib.pyplot as plt"
   ]
  },
  {
   "cell_type": "code",
   "execution_count": 3,
   "id": "7f38ab41",
   "metadata": {},
   "outputs": [],
   "source": [
    "import blo.params as blo_params\n",
    "from blo.utils import load_problem, factory_get_path"
   ]
  },
  {
   "cell_type": "code",
   "execution_count": 4,
   "id": "10aec709",
   "metadata": {},
   "outputs": [],
   "source": [
    "def get_results(param_vals, data_dir, model_type, vf_constr_type, approx_type):\n",
    "    \"\"\" Get results for ml algorithm. \"\"\"\n",
    "    result_dir = 'results'\n",
    "    result_dir = f'{data_dir}{result_dir}/'\n",
    "\n",
    "    result_files = os.listdir(result_dir)\n",
    "    result_files = list(filter(lambda x: f\"m-{model_type}\" in x, result_files))\n",
    "    result_files = list(filter(lambda x: f\"v-{vf_constr_type}\" in x, result_files))\n",
    "    result_files = list(filter(lambda x: f\"a-{approx_type}\" in x, result_files))\n",
    "\n",
    "    print(\"Number of files:\", len(result_files))\n",
    "\n",
    "    results = {}\n",
    "\n",
    "    for i in param_vals['inst_ids']:\n",
    "        inst_str = f\"_i-{i}_\"\n",
    "        f = list(filter(lambda x: inst_str in x, result_files))\n",
    "\n",
    "        f = f[0]\n",
    "        f = result_dir + f\n",
    "    \n",
    "        with open(f, 'rb') as p:\n",
    "            results[i] = pkl.load(p)\n",
    "        \n",
    "    return results"
   ]
  },
  {
   "cell_type": "code",
   "execution_count": 5,
   "id": "a7d815f3",
   "metadata": {},
   "outputs": [],
   "source": [
    "model_type = \"inst_encoder\"\n",
    "\n",
    "param_vals = {\n",
    "    'inst_ids' : list(range(1,11)),\n",
    "    'n' : [30],\n",
    "}"
   ]
  },
  {
   "cell_type": "code",
   "execution_count": 7,
   "id": "6b22e13d",
   "metadata": {},
   "outputs": [],
   "source": [
    "problem = 'dr'\n",
    "data_dir = f'../data/{problem}/'"
   ]
  },
  {
   "cell_type": "code",
   "execution_count": 8,
   "id": "68616d8f-e778-4fb0-8fbe-8fce7f10266d",
   "metadata": {},
   "outputs": [
    {
     "name": "stdout",
     "output_type": "stream",
     "text": [
      "Number of files: 10\n"
     ]
    }
   ],
   "source": [
    "nn_lower_results = get_results(param_vals, data_dir, model_type, \"slack\", \"lower\")"
   ]
  },
  {
   "cell_type": "code",
   "execution_count": 9,
   "id": "52f5ddfb",
   "metadata": {},
   "outputs": [
    {
     "name": "stdout",
     "output_type": "stream",
     "text": [
      "Number of files: 10\n"
     ]
    }
   ],
   "source": [
    "nn_upper_results = get_results(param_vals, data_dir, model_type, \"slack\", \"upper\")"
   ]
  },
  {
   "cell_type": "code",
   "execution_count": 10,
   "id": "ed3bc311",
   "metadata": {},
   "outputs": [],
   "source": [
    "# get baseline results\n",
    "solver_results = {}\n",
    "for k, v in nn_lower_results.items():\n",
    "    solver_results[k] = nn_lower_results[k]['baseline_results']"
   ]
  },
  {
   "cell_type": "code",
   "execution_count": 11,
   "id": "c74e51e6",
   "metadata": {},
   "outputs": [],
   "source": [
    "# columns for table\n",
    "cols = ['nn_l_obj', 'nn_u_obj',  's_obj',\n",
    "        'nn_l_mre',  'nn_u_mre',  's_mre',\n",
    "        'nn_l_time', 'nn_u_time',  's_time', \n",
    "       ]"
   ]
  },
  {
   "cell_type": "code",
   "execution_count": 12,
   "id": "f918d236",
   "metadata": {},
   "outputs": [],
   "source": [
    "# indicies for table\n",
    "indicies = list(range(1,11)) \n",
    "indicies.append(\"Averaged\")\n",
    "\n",
    "rel_errors = {}\n",
    "rel_errors[\"nn_u\"] = []\n",
    "rel_errors[\"nn_l\"] = []\n",
    "rel_errors[\"s\"] = []"
   ]
  },
  {
   "cell_type": "code",
   "execution_count": 13,
   "id": "b66a5924",
   "metadata": {},
   "outputs": [],
   "source": [
    "df = pd.DataFrame(index=indicies, columns=cols)"
   ]
  },
  {
   "cell_type": "code",
   "execution_count": 14,
   "id": "00e9607a",
   "metadata": {},
   "outputs": [],
   "source": [
    "for i in param_vals['inst_ids']:\n",
    "    \n",
    "    # results for solver results\n",
    "    solver_time = solver_results[i]['runtime']\n",
    "    solver_obj = solver_results[i]['obj']\n",
    "\n",
    "    # slack results\n",
    "    nn_lower_time = nn_lower_results[i]['time']\n",
    "    nn_lower_obj = nn_lower_results[i]['leader_obj']\n",
    "\n",
    "    # upper results\n",
    "    nn_upper_time = nn_upper_results[i]['time']\n",
    "    nn_upper_obj = nn_upper_results[i]['leader_obj']\n",
    "\n",
    "    # comptue relative error for each method\n",
    "    best_obj = np.max([nn_upper_obj, nn_lower_obj, solver_obj])\n",
    "    \n",
    "    solver_re = 100 * (best_obj - solver_obj) / best_obj\n",
    "    nn_lower_re = 100 * (best_obj - nn_lower_obj) / best_obj\n",
    "    nn_upper_re = 100 * (best_obj - nn_upper_obj) / best_obj\n",
    "\n",
    "    rel_errors[\"nn_u\"].append(nn_upper_re)\n",
    "    rel_errors[\"nn_l\"].append(nn_lower_re)\n",
    "    rel_errors[\"s\"].append(solver_re)\n",
    "    \n",
    "    df['nn_l_obj'][i] = nn_lower_obj\n",
    "    df['nn_u_obj'][i] = nn_upper_obj\n",
    "    df['s_obj'][i] = float(solver_obj)\n",
    "\n",
    "    df['nn_l_mre'][i] = nn_lower_re\n",
    "    df['nn_u_mre'][i] = nn_upper_re\n",
    "    df['s_mre'][i] = solver_re\n",
    "\n",
    "    df['nn_l_time'][i] = nn_lower_time\n",
    "    df['nn_u_time'][i] = nn_upper_time\n",
    "    df['s_time'][i] = solver_time"
   ]
  },
  {
   "cell_type": "code",
   "execution_count": 15,
   "id": "0633b274-1dee-423a-8759-fcb7819443f1",
   "metadata": {},
   "outputs": [],
   "source": [
    "df['nn_l_obj'][\"Averaged\"] = np.mean(df['nn_l_obj'][indicies[:-1]])\n",
    "df['nn_u_obj'][\"Averaged\"] = np.mean(df['nn_u_obj'][indicies[:-1]])\n",
    "df['s_obj'][\"Averaged\"] = np.mean(df['s_obj'][indicies[:-1]])\n",
    "\n",
    "df['nn_l_mre'][\"Averaged\"] = np.mean(rel_errors[\"nn_l\"])\n",
    "df['nn_u_mre'][\"Averaged\"] = np.mean(rel_errors[\"nn_u\"])\n",
    "df['s_mre'][\"Averaged\"] = np.mean(rel_errors[\"s\"])\n",
    "\n",
    "df['nn_l_time'][\"Averaged\"] = np.mean(df['nn_l_time'][indicies[:-1]])\n",
    "df['nn_u_time'][\"Averaged\"] = np.mean(df['nn_u_time'][indicies[:-1]])\n",
    "df['s_time'][\"Averaged\"] = np.mean(df['s_time'][indicies[:-1]])"
   ]
  },
  {
   "cell_type": "code",
   "execution_count": 16,
   "id": "34ca0907-e8a3-4999-9824-d80fa16e4ca0",
   "metadata": {},
   "outputs": [
    {
     "data": {
      "text/html": [
       "<div>\n",
       "<style scoped>\n",
       "    .dataframe tbody tr th:only-of-type {\n",
       "        vertical-align: middle;\n",
       "    }\n",
       "\n",
       "    .dataframe tbody tr th {\n",
       "        vertical-align: top;\n",
       "    }\n",
       "\n",
       "    .dataframe thead th {\n",
       "        text-align: right;\n",
       "    }\n",
       "</style>\n",
       "<table border=\"1\" class=\"dataframe\">\n",
       "  <thead>\n",
       "    <tr style=\"text-align: right;\">\n",
       "      <th></th>\n",
       "      <th>nn_l_obj</th>\n",
       "      <th>nn_u_obj</th>\n",
       "      <th>s_obj</th>\n",
       "      <th>nn_l_mre</th>\n",
       "      <th>nn_u_mre</th>\n",
       "      <th>s_mre</th>\n",
       "      <th>nn_l_time</th>\n",
       "      <th>nn_u_time</th>\n",
       "      <th>s_time</th>\n",
       "    </tr>\n",
       "  </thead>\n",
       "  <tbody>\n",
       "    <tr>\n",
       "      <th>1</th>\n",
       "      <td>34356.0</td>\n",
       "      <td>59524.0</td>\n",
       "      <td>47206.0</td>\n",
       "      <td>42.282105</td>\n",
       "      <td>0.0</td>\n",
       "      <td>20.694174</td>\n",
       "      <td>0.091573</td>\n",
       "      <td>1.438129</td>\n",
       "      <td>3600.087101</td>\n",
       "    </tr>\n",
       "    <tr>\n",
       "      <th>2</th>\n",
       "      <td>33713.0</td>\n",
       "      <td>54764.0</td>\n",
       "      <td>39526.0</td>\n",
       "      <td>38.439486</td>\n",
       "      <td>0.0</td>\n",
       "      <td>27.824848</td>\n",
       "      <td>0.117806</td>\n",
       "      <td>1.518419</td>\n",
       "      <td>3600.082969</td>\n",
       "    </tr>\n",
       "    <tr>\n",
       "      <th>3</th>\n",
       "      <td>36717.0</td>\n",
       "      <td>66967.0</td>\n",
       "      <td>46792.0</td>\n",
       "      <td>45.171502</td>\n",
       "      <td>0.0</td>\n",
       "      <td>30.126779</td>\n",
       "      <td>0.138996</td>\n",
       "      <td>2.850251</td>\n",
       "      <td>3600.07455</td>\n",
       "    </tr>\n",
       "    <tr>\n",
       "      <th>4</th>\n",
       "      <td>36414.0</td>\n",
       "      <td>54908.0</td>\n",
       "      <td>44486.0</td>\n",
       "      <td>33.681795</td>\n",
       "      <td>0.0</td>\n",
       "      <td>18.980841</td>\n",
       "      <td>0.068614</td>\n",
       "      <td>1.683495</td>\n",
       "      <td>3637.234302</td>\n",
       "    </tr>\n",
       "    <tr>\n",
       "      <th>5</th>\n",
       "      <td>33090.0</td>\n",
       "      <td>59627.0</td>\n",
       "      <td>43355.0</td>\n",
       "      <td>44.505006</td>\n",
       "      <td>0.0</td>\n",
       "      <td>27.289651</td>\n",
       "      <td>0.099623</td>\n",
       "      <td>1.961304</td>\n",
       "      <td>3600.070555</td>\n",
       "    </tr>\n",
       "    <tr>\n",
       "      <th>6</th>\n",
       "      <td>36691.0</td>\n",
       "      <td>56603.0</td>\n",
       "      <td>39006.0</td>\n",
       "      <td>35.178347</td>\n",
       "      <td>0.0</td>\n",
       "      <td>31.088458</td>\n",
       "      <td>0.081683</td>\n",
       "      <td>2.934948</td>\n",
       "      <td>3600.09992</td>\n",
       "    </tr>\n",
       "    <tr>\n",
       "      <th>7</th>\n",
       "      <td>31354.0</td>\n",
       "      <td>55569.0</td>\n",
       "      <td>43443.0</td>\n",
       "      <td>43.576454</td>\n",
       "      <td>0.0</td>\n",
       "      <td>21.821519</td>\n",
       "      <td>0.091259</td>\n",
       "      <td>1.575713</td>\n",
       "      <td>3600.142473</td>\n",
       "    </tr>\n",
       "    <tr>\n",
       "      <th>8</th>\n",
       "      <td>35710.0</td>\n",
       "      <td>54414.0</td>\n",
       "      <td>39839.0</td>\n",
       "      <td>34.373507</td>\n",
       "      <td>0.0</td>\n",
       "      <td>26.785386</td>\n",
       "      <td>0.093465</td>\n",
       "      <td>0.866674</td>\n",
       "      <td>3600.102146</td>\n",
       "    </tr>\n",
       "    <tr>\n",
       "      <th>9</th>\n",
       "      <td>38961.0</td>\n",
       "      <td>61869.0</td>\n",
       "      <td>45288.0</td>\n",
       "      <td>37.026621</td>\n",
       "      <td>0.0</td>\n",
       "      <td>26.800175</td>\n",
       "      <td>0.162728</td>\n",
       "      <td>4.549298</td>\n",
       "      <td>3600.163771</td>\n",
       "    </tr>\n",
       "    <tr>\n",
       "      <th>10</th>\n",
       "      <td>36965.0</td>\n",
       "      <td>60488.0</td>\n",
       "      <td>43194.0</td>\n",
       "      <td>38.888705</td>\n",
       "      <td>0.0</td>\n",
       "      <td>28.590795</td>\n",
       "      <td>0.120635</td>\n",
       "      <td>3.572193</td>\n",
       "      <td>3600.099877</td>\n",
       "    </tr>\n",
       "    <tr>\n",
       "      <th>Averaged</th>\n",
       "      <td>35397.1</td>\n",
       "      <td>58473.3</td>\n",
       "      <td>43213.5</td>\n",
       "      <td>39.312353</td>\n",
       "      <td>0.0</td>\n",
       "      <td>26.000263</td>\n",
       "      <td>0.106638</td>\n",
       "      <td>2.295042</td>\n",
       "      <td>3603.815766</td>\n",
       "    </tr>\n",
       "  </tbody>\n",
       "</table>\n",
       "</div>"
      ],
      "text/plain": [
       "         nn_l_obj nn_u_obj    s_obj   nn_l_mre nn_u_mre      s_mre nn_l_time  \\\n",
       "1         34356.0  59524.0  47206.0  42.282105      0.0  20.694174  0.091573   \n",
       "2         33713.0  54764.0  39526.0  38.439486      0.0  27.824848  0.117806   \n",
       "3         36717.0  66967.0  46792.0  45.171502      0.0  30.126779  0.138996   \n",
       "4         36414.0  54908.0  44486.0  33.681795      0.0  18.980841  0.068614   \n",
       "5         33090.0  59627.0  43355.0  44.505006      0.0  27.289651  0.099623   \n",
       "6         36691.0  56603.0  39006.0  35.178347      0.0  31.088458  0.081683   \n",
       "7         31354.0  55569.0  43443.0  43.576454      0.0  21.821519  0.091259   \n",
       "8         35710.0  54414.0  39839.0  34.373507      0.0  26.785386  0.093465   \n",
       "9         38961.0  61869.0  45288.0  37.026621      0.0  26.800175  0.162728   \n",
       "10        36965.0  60488.0  43194.0  38.888705      0.0  28.590795  0.120635   \n",
       "Averaged  35397.1  58473.3  43213.5  39.312353      0.0  26.000263  0.106638   \n",
       "\n",
       "         nn_u_time       s_time  \n",
       "1         1.438129  3600.087101  \n",
       "2         1.518419  3600.082969  \n",
       "3         2.850251   3600.07455  \n",
       "4         1.683495  3637.234302  \n",
       "5         1.961304  3600.070555  \n",
       "6         2.934948   3600.09992  \n",
       "7         1.575713  3600.142473  \n",
       "8         0.866674  3600.102146  \n",
       "9         4.549298  3600.163771  \n",
       "10        3.572193  3600.099877  \n",
       "Averaged  2.295042  3603.815766  "
      ]
     },
     "execution_count": 16,
     "metadata": {},
     "output_type": "execute_result"
    }
   ],
   "source": [
    "df"
   ]
  },
  {
   "cell_type": "code",
   "execution_count": 17,
   "id": "858a0fcb",
   "metadata": {},
   "outputs": [],
   "source": [
    "def latex_results(df_):\n",
    "    \"\"\" Generate Latex table for results.  \"\"\"\n",
    "\n",
    "    df = df_.copy()\n",
    "\n",
    "    df = df.rename(columns={\n",
    "        'nn_l_obj' : '\\\\mls',\n",
    "        'nn_u_obj' : '\\\\mlu',\n",
    "        's_obj' : '\\\\drbaseline',\n",
    " \n",
    "        'nn_l_mre' : '\\\\mls\\ ',\n",
    "        'nn_u_mre' : '\\\\mlu\\ ',\n",
    "        's_mre' : '\\\\drbaseline\\ ',\n",
    "\n",
    "        'nn_l_time' : '\\\\mls\\ \\ ',\n",
    "        'nn_u_time' : '\\\\mlu\\ \\ ',\n",
    "        's_time' : '\\\\drbaseline\\ \\ ',\n",
    "\n",
    "    })\n",
    "\n",
    "    df = df.style.format(thousands=',', precision=2)        \n",
    "    \n",
    "    # bold minimum value in table\n",
    "    df = df.highlight_max(subset=['\\\\mls',     '\\\\mlu',     '\\\\drbaseline'], props='textbf:--rwrap;', axis=1)\n",
    "    df = df.highlight_min(subset=['\\\\mls\\ ',   '\\\\mlu\\ ',   '\\\\drbaseline\\ '], props='textbf:--rwrap;', axis=1)\n",
    "    df = df.highlight_min(subset=['\\\\mls\\ \\ ', '\\\\mlu\\ \\ ', '\\\\drbaseline\\ \\ '], props='textbf:--rwrap;', axis=1)\n",
    "\n",
    "    # caption\n",
    "    end_str = '}\\n\\\\caption{Donor Receipient: Objectives, gaps, and times for all instances. '\n",
    "    end_str += 'Each row corresponds to a single instance from \\\\jd{ADD citation and description}.  ' \n",
    "    end_str += '\\\\mls{} is the ML formulations with slack for the lower-level approximation.  ' \n",
    "    end_str += '\\\\mlu{} is the ML formulation for the upper-level approximation. }\\n'\n",
    "    end_str += '\\\\label{tab:dr_results}\\n'\n",
    "    end_str += '\\\\end{table*}' \n",
    "\n",
    "\n",
    "    latex_str = df.to_latex(column_format='l|rrr|rrr|rrr').replace('_','\\_').replace('nan', '-').replace('#', '\\#')\n",
    "\n",
    "    #row_id = \"($||,\\\\gamma,\"\n",
    "    # row_id += \"\\\\eta,\"\n",
    "    #row_id += \"\\\\epsilon,\\\\delta,\\\\eta,d\\_{ratio},a\\_{ratio}$)\"\n",
    "    row_id = \"Instance \\#\"\n",
    "    \n",
    "    latex_str2 = (latex_str.splitlines())\n",
    "    latex_str2.insert(1, '\\\\toprule')\n",
    "    latex_str2.insert(2, row_id + ' & \\multicolumn{3}{c|}{Objective}  &  \\multicolumn{3}{c|}{Relative Error (\\%)}  & \\multicolumn{3}{c}{Times} \\\\\\\\')\n",
    "    latex_str2.insert(4, '\\\\midrule')\n",
    "    latex_str2.insert(-1, '\\\\bottomrule')\n",
    "    latex_str2.insert(0, '\\\\begin{table*}[h]\\\\centering\\\\resizebox{0.5\\\\textwidth}{!}{')\n",
    "    latex_str2[-1] += end_str\n",
    "\n",
    "    print(\"\\n\".join(latex_str2))\n",
    "    print()"
   ]
  },
  {
   "cell_type": "code",
   "execution_count": 18,
   "id": "a6228a2c",
   "metadata": {},
   "outputs": [
    {
     "name": "stdout",
     "output_type": "stream",
     "text": [
      "\\begin{table*}[h]\\centering\\resizebox{0.5\\textwidth}{!}{\n",
      "\\begin{tabular}{l|rrr|rrr|rrr}\n",
      "\\toprule\n",
      "Instance \\# & \\multicolumn{3}{c|}{Objective}  &  \\multicolumn{3}{c|}{Relative Error (\\%)}  & \\multicolumn{3}{c}{Times} \\\\\n",
      " & \\mls & \\mlu & \\drbaseline & \\mls\\  & \\mlu\\  & \\drbaseline\\  & \\mls\\ \\  & \\mlu\\ \\  & \\drbaseline\\ \\  \\\\\n",
      "\\midrule\n",
      "1 & 34,356.00 & \\textbf{59,524.00} & 47,206.00 & 42.28 & \\textbf{0.00} & 20.69 & \\textbf{0.09} & 1.44 & 3,600.09 \\\\\n",
      "2 & 33,713.00 & \\textbf{54,764.00} & 39,526.00 & 38.44 & \\textbf{0.00} & 27.82 & \\textbf{0.12} & 1.52 & 3,600.08 \\\\\n",
      "3 & 36,717.00 & \\textbf{66,967.00} & 46,792.00 & 45.17 & \\textbf{0.00} & 30.13 & \\textbf{0.14} & 2.85 & 3,600.07 \\\\\n",
      "4 & 36,414.00 & \\textbf{54,908.00} & 44,486.00 & 33.68 & \\textbf{0.00} & 18.98 & \\textbf{0.07} & 1.68 & 3,637.23 \\\\\n",
      "5 & 33,090.00 & \\textbf{59,627.00} & 43,355.00 & 44.51 & \\textbf{0.00} & 27.29 & \\textbf{0.10} & 1.96 & 3,600.07 \\\\\n",
      "6 & 36,691.00 & \\textbf{56,603.00} & 39,006.00 & 35.18 & \\textbf{0.00} & 31.09 & \\textbf{0.08} & 2.93 & 3,600.10 \\\\\n",
      "7 & 31,354.00 & \\textbf{55,569.00} & 43,443.00 & 43.58 & \\textbf{0.00} & 21.82 & \\textbf{0.09} & 1.58 & 3,600.14 \\\\\n",
      "8 & 35,710.00 & \\textbf{54,414.00} & 39,839.00 & 34.37 & \\textbf{0.00} & 26.79 & \\textbf{0.09} & 0.87 & 3,600.10 \\\\\n",
      "9 & 38,961.00 & \\textbf{61,869.00} & 45,288.00 & 37.03 & \\textbf{0.00} & 26.80 & \\textbf{0.16} & 4.55 & 3,600.16 \\\\\n",
      "10 & 36,965.00 & \\textbf{60,488.00} & 43,194.00 & 38.89 & \\textbf{0.00} & 28.59 & \\textbf{0.12} & 3.57 & 3,600.10 \\\\\n",
      "Averaged & 35,397.10 & \\textbf{58,473.30} & 43,213.50 & 39.31 & \\textbf{0.00} & 26.00 & \\textbf{0.11} & 2.30 & 3,603.82 \\\\\n",
      "\\bottomrule\n",
      "\\end{tabular}}\n",
      "\\caption{Donor Receipient: Objectives, gaps, and times for all instances. Each row corresponds to a single instance from \\jd{ADD citation and description}.  \\mls{} is the ML formulations with slack for the lower-level approximation.  \\mlu{} is the ML formulation for the upper-level approximation. }\n",
      "\\label{tab:dr_results}\n",
      "\\end{table*}\n",
      "\n"
     ]
    }
   ],
   "source": [
    "latex_results(df)"
   ]
  },
  {
   "cell_type": "markdown",
   "id": "beea7920-54ca-457b-8cfb-d5a1501e4f17",
   "metadata": {},
   "source": [
    "# Data Collection + Training Time"
   ]
  },
  {
   "cell_type": "code",
   "execution_count": 19,
   "id": "3519fef3-98e8-480a-9f2d-d66fb29b7437",
   "metadata": {},
   "outputs": [],
   "source": [
    "class A():\n",
    "    pass"
   ]
  },
  {
   "cell_type": "code",
   "execution_count": 20,
   "id": "56ad4bd8-f916-4a89-9b2d-6ff060d315fe",
   "metadata": {},
   "outputs": [],
   "source": [
    "args = A()\n",
    "args.v = v\n",
    "model_type = \"inst_encoder\""
   ]
  },
  {
   "cell_type": "code",
   "execution_count": 21,
   "id": "1796e4ab-a84f-49f4-9709-e61c3287fe90",
   "metadata": {},
   "outputs": [
    {
     "data": {
      "text/plain": [
       "{'inst_ids': [1, 2, 3, 4, 5, 6, 7, 8, 9, 10], 'n': [30]}"
      ]
     },
     "execution_count": 21,
     "metadata": {},
     "output_type": "execute_result"
    }
   ],
   "source": [
    "param_vals"
   ]
  },
  {
   "cell_type": "code",
   "execution_count": 22,
   "id": "91410de3-8800-4593-b0c3-5b6b044aef00",
   "metadata": {},
   "outputs": [],
   "source": [
    "ml_times = {}\n",
    "u_tr_times = {}\n",
    "l_tr_times = {}\n",
    "\n",
    "for n in param_vals['n']:\n",
    "\n",
    "    args.problem = f\"dr_{n}_hard\"\n",
    "    get_path = factory_get_path(args)\n",
    "    cfg = getattr(blo_params, args.problem)\n",
    "    cfg.data_path = f'../data/'\n",
    "\n",
    "    # load dataset\n",
    "    fp_data = get_path(cfg.data_path, cfg, \"ml_data\")\n",
    "    with open(fp_data, 'rb') as pf:\n",
    "        ml_dataset = pkl.load(pf)\n",
    "\n",
    "    ml_times[n] = ml_dataset['total_time']\n",
    "    \n",
    "    \n",
    "    for approx_type in [\"lower\", \"upper\"]:\n",
    "        fp_nn_res = get_path(cfg.data_path, cfg, f\"nn_res_{model_type}_{approx_type}\", suffix=\"pkl\")\n",
    "        with open(fp_nn_res, 'rb') as pf:\n",
    "            nn_res = pkl.load(pf)\n",
    "\n",
    "        if approx_type == \"lower\":\n",
    "            l_tr_times[n] = nn_res['train_time']\n",
    "        else:\n",
    "            u_tr_times[n] = nn_res['train_time']"
   ]
  },
  {
   "cell_type": "code",
   "execution_count": 23,
   "id": "92e77f1b-7abe-4582-b6ac-73d30c72e729",
   "metadata": {},
   "outputs": [
    {
     "data": {
      "text/plain": [
       "{30: 1768.8261532783508}"
      ]
     },
     "execution_count": 23,
     "metadata": {},
     "output_type": "execute_result"
    }
   ],
   "source": [
    "l_tr_times"
   ]
  },
  {
   "cell_type": "code",
   "execution_count": 24,
   "id": "6c405ab4-812a-4544-8e70-5130cd5d4074",
   "metadata": {},
   "outputs": [
    {
     "data": {
      "text/plain": [
       "{30: 1784.1526777744293}"
      ]
     },
     "execution_count": 24,
     "metadata": {},
     "output_type": "execute_result"
    }
   ],
   "source": [
    "u_tr_times"
   ]
  },
  {
   "cell_type": "code",
   "execution_count": 25,
   "id": "b8e23f1f-86f1-460e-a9ca-eca8b4589fe0",
   "metadata": {},
   "outputs": [
    {
     "data": {
      "text/plain": [
       "{30: 1939.2453722953796}"
      ]
     },
     "execution_count": 25,
     "metadata": {},
     "output_type": "execute_result"
    }
   ],
   "source": [
    "ml_times"
   ]
  },
  {
   "cell_type": "code",
   "execution_count": null,
   "id": "38189653-a772-44e3-b5a2-d68b59fee4fd",
   "metadata": {},
   "outputs": [],
   "source": []
  }
 ],
 "metadata": {
  "kernelspec": {
   "display_name": "Python 3 (ipykernel)",
   "language": "python",
   "name": "python3"
  },
  "language_info": {
   "codemirror_mode": {
    "name": "ipython",
    "version": 3
   },
   "file_extension": ".py",
   "mimetype": "text/x-python",
   "name": "python",
   "nbconvert_exporter": "python",
   "pygments_lexer": "ipython3",
   "version": "3.11.7"
  }
 },
 "nbformat": 4,
 "nbformat_minor": 5
}
