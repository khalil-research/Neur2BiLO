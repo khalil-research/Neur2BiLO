{
 "cells": [
  {
   "cell_type": "code",
   "execution_count": 2,
   "id": "ed6575e3-b7b3-4bf6-acf5-22afa1e29666",
   "metadata": {},
   "outputs": [],
   "source": [
    "import os\n",
    "\n",
    "import numpy as np\n",
    "import pandas as pd"
   ]
  },
  {
   "cell_type": "code",
   "execution_count": null,
   "id": "7449a999-1f12-4aea-88c3-4e54ae27ebde",
   "metadata": {},
   "outputs": [],
   "source": [
    "dataset = 15\n",
    "data_dir = \"Dataset{}\""
   ]
  },
  {
   "cell_type": "code",
   "execution_count": 7,
   "id": "e1a6f377-6d30-416e-9061-d9ddd1f63740",
   "metadata": {},
   "outputs": [
    {
     "name": "stdout",
     "output_type": "stream",
     "text": [
      "['Instance5.xlsx', 'Instance3.xlsx', 'Instance9.xlsx', 'Instance4.xlsx', 'Instance8.xlsx', 'Instance10.xlsx', 'Instance1.xlsx', 'Instance6.xlsx', 'Instance7.xlsx', 'Instance2.xlsx']\n"
     ]
    }
   ],
   "source": [
    "files = os.listdir()\n",
    "files = list(filter(lambda x: \".xlsx\" in x, files))\n",
    "\n",
    "print(files)"
   ]
  },
  {
   "cell_type": "code",
   "execution_count": 8,
   "id": "4035a5ec-d033-454b-92dd-9f871a75b7cf",
   "metadata": {},
   "outputs": [],
   "source": [
    "fp_inst = files[0]"
   ]
  },
  {
   "cell_type": "code",
   "execution_count": 14,
   "id": "4991c71a-7963-458c-b170-c6269fd265ce",
   "metadata": {},
   "outputs": [
    {
     "name": "stdout",
     "output_type": "stream",
     "text": [
      "30\n",
      "30\n",
      "30\n",
      "30\n",
      "30\n",
      "30\n",
      "30\n",
      "30\n",
      "30\n",
      "30\n"
     ]
    }
   ],
   "source": [
    "for file in files:\n",
    "    f = pd.read_excel(fp_inst, 'HCProjects', index_col=0)\n",
    "    \n",
    "    w = f.DonorValuation.to_numpy()\n",
    "    v = f.CountryValuation.to_numpy()\n",
    "    c = f.ProjectCost.to_numpy()\n",
    "    n = int(len(w))\n",
    "    \n",
    "    print(n)"
   ]
  },
  {
   "cell_type": "code",
   "execution_count": null,
   "id": "68f4989f-c18f-4009-87e1-b911f22f863f",
   "metadata": {},
   "outputs": [],
   "source": []
  },
  {
   "cell_type": "code",
   "execution_count": null,
   "id": "ae574813-0232-4969-abe5-942296d222a7",
   "metadata": {},
   "outputs": [],
   "source": []
  }
 ],
 "metadata": {
  "kernelspec": {
   "display_name": "Python 3 (ipykernel)",
   "language": "python",
   "name": "python3"
  },
  "language_info": {
   "codemirror_mode": {
    "name": "ipython",
    "version": 3
   },
   "file_extension": ".py",
   "mimetype": "text/x-python",
   "name": "python",
   "nbconvert_exporter": "python",
   "pygments_lexer": "ipython3",
   "version": "3.11.7"
  }
 },
 "nbformat": 4,
 "nbformat_minor": 5
}
